{
 "cells": [
  {
   "cell_type": "code",
   "execution_count": null,
   "id": "0964f4fc",
   "metadata": {
    "vscode": {
     "languageId": "plaintext"
    }
   },
   "outputs": [],
   "source": [
    "# Setup and Imports\n",
    "\n",
    "import sagemaker\n",
    "from sagemaker import get_execution_role\n",
    "from sagemaker.inputs import TrainingInput\n",
    "from sagemaker.estimator import Estimator\n",
    "import pandas as pd\n",
    "import boto3\n",
    "import os"
   ]
  },
  {
   "cell_type": "code",
   "execution_count": null,
   "id": "b62934bc",
   "metadata": {
    "vscode": {
     "languageId": "plaintext"
    }
   },
   "outputs": [],
   "source": [
    "# Define Environment\n",
    "\n",
    "sagemaker_session = sagemaker.Session()\n",
    "role = get_execution_role()\n",
    "bucket = \"naija-sentiment-data\"  # Replace with your actual S3 bucket name\n",
    "prefix = \"input\""
   ]
  },
  {
   "cell_type": "code",
   "execution_count": null,
   "id": "d6acf5f3",
   "metadata": {
    "vscode": {
     "languageId": "plaintext"
    }
   },
   "outputs": [],
   "source": [
    "# Load and Prepare Data \n",
    "\n",
    "df = pd.read_csv(\"labeled_tweets.csv\")\n",
    "\n",
    "# Map sentiment labels to numeric values\n",
    "label_map = {\"POSITIVE\": 0, \"NEGATIVE\": 1, \"NEUTRAL\": 2}\n",
    "df[\"label\"] = df[\"sentiment\"].map(label_map)\n",
    "\n",
    "# Drop rows with missing or unknown labels\n",
    "df = df.dropna(subset=[\"clean_text\", \"label\"])\n",
    "df = df[df[\"label\"].isin([0, 1, 2])]\n",
    "\n",
    "# Save as CSV for SageMaker\n",
    "df[[\"label\", \"clean_text\"]].to_csv(\"train.csv\", index=False, header=False)"
   ]
  },
  {
   "cell_type": "code",
   "execution_count": null,
   "id": "c4fe3f6a",
   "metadata": {
    "vscode": {
     "languageId": "plaintext"
    }
   },
   "outputs": [],
   "source": [
    "# Upload to S3 \n",
    "\n",
    "s3_train_path = sagemaker_session.upload_data(\"train.csv\", bucket=bucket, key_prefix=prefix)\n",
    "print(f\"Training data uploaded to: {s3_train_path}\")"
   ]
  },
  {
   "cell_type": "code",
   "execution_count": null,
   "id": "c70b50b3",
   "metadata": {
    "vscode": {
     "languageId": "plaintext"
    }
   },
   "outputs": [],
   "source": [
    "# Define XGBoost Estimator\n",
    "\n",
    "container = sagemaker.image_uris.retrieve(\"xgboost\", sagemaker_session.boto_region_name, \"1.3-1\")\n",
    "\n",
    "xgb = Estimator(\n",
    "    image_uri=container,\n",
    "    role=role,\n",
    "    instance_count=1,\n",
    "    instance_type=\"ml.m5.large\",\n",
    "    output_path=f\"s3://{bucket}/output\",\n",
    "    sagemaker_session=sagemaker_session\n",
    ")\n",
    "\n",
    "xgb.set_hyperparameters(\n",
    "    objective=\"multi:softprob\",\n",
    "    num_class=3,\n",
    "    num_round=100,\n",
    "    max_depth=5,\n",
    "    eta=0.2,\n",
    "    subsample=0.8,\n",
    "    colsample_bytree=0.8\n",
    ")"
   ]
  },
  {
   "cell_type": "code",
   "execution_count": null,
   "id": "16481ec4",
   "metadata": {
    "vscode": {
     "languageId": "plaintext"
    }
   },
   "outputs": [],
   "source": [
    "#Train the Model\n",
    "\n",
    "train_input = TrainingInput(s3_train_path, content_type=\"csv\")\n",
    "xgb.fit({\"train\": train_input})"
   ]
  }
 ],
 "metadata": {
  "language_info": {
   "name": "python"
  }
 },
 "nbformat": 4,
 "nbformat_minor": 5
}
